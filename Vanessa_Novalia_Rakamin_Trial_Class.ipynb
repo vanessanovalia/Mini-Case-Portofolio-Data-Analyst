{
  "cells": [
    {
      "cell_type": "markdown",
      "id": "ae0654e1",
      "metadata": {
        "id": "ae0654e1"
      },
      "source": [
        "### Homework Rakamin Trial Class - Mini Case"
      ]
    },
    {
      "cell_type": "markdown",
      "id": "578645f2",
      "metadata": {
        "id": "578645f2"
      },
      "source": [
        "# Mengukur Performa Penjualan Ritel Online"
      ]
    },
    {
      "cell_type": "markdown",
      "id": "ebf52fe7",
      "metadata": {
        "id": "ebf52fe7"
      },
      "source": [
        "## Load Data"
      ]
    },
    {
      "cell_type": "code",
      "execution_count": null,
      "id": "6c4b0183",
      "metadata": {
        "id": "6c4b0183"
      },
      "outputs": [],
      "source": [
        "import pandas as pd\n",
        "import numpy as np"
      ]
    },
    {
      "cell_type": "code",
      "source": [
        "df = pd.read_csv('/content/online_retail_II.csv')"
      ],
      "metadata": {
        "id": "F_q2ljD6VT6x"
      },
      "id": "F_q2ljD6VT6x",
      "execution_count": null,
      "outputs": []
    },
    {
      "cell_type": "code",
      "source": [
        "df"
      ],
      "metadata": {
        "id": "q28Wp-W0ViCs",
        "colab": {
          "base_uri": "https://localhost:8080/",
          "height": 423
        },
        "outputId": "1a74af61-08ac-4ae1-f3f5-665b75305dab"
      },
      "id": "q28Wp-W0ViCs",
      "execution_count": null,
      "outputs": [
        {
          "output_type": "execute_result",
          "data": {
            "text/plain": [
              "        Invoice StockCode                          Description  Quantity  \\\n",
              "0        489434     85048  15CM CHRISTMAS GLASS BALL 20 LIGHTS        12   \n",
              "1        489434    79323P                   PINK CHERRY LIGHTS        12   \n",
              "2        489434    79323W                  WHITE CHERRY LIGHTS        12   \n",
              "3        489434     22041         RECORD FRAME 7\" SINGLE SIZE         48   \n",
              "4        489434     21232       STRAWBERRY CERAMIC TRINKET BOX        24   \n",
              "...         ...       ...                                  ...       ...   \n",
              "1067366  581587     22899         CHILDREN'S APRON DOLLY GIRL          6   \n",
              "1067367  581587     23254        CHILDRENS CUTLERY DOLLY GIRL          4   \n",
              "1067368  581587     23255      CHILDRENS CUTLERY CIRCUS PARADE         4   \n",
              "1067369  581587     22138        BAKING SET 9 PIECE RETROSPOT          3   \n",
              "1067370  581587      POST                              POSTAGE         1   \n",
              "\n",
              "                 InvoiceDate  Price  Customer ID         Country  \n",
              "0        2009-12-01 07:45:00   6.95      13085.0  United Kingdom  \n",
              "1        2009-12-01 07:45:00   6.75      13085.0  United Kingdom  \n",
              "2        2009-12-01 07:45:00   6.75      13085.0  United Kingdom  \n",
              "3        2009-12-01 07:45:00   2.10      13085.0  United Kingdom  \n",
              "4        2009-12-01 07:45:00   1.25      13085.0  United Kingdom  \n",
              "...                      ...    ...          ...             ...  \n",
              "1067366  2011-12-09 12:50:00   2.10      12680.0          France  \n",
              "1067367  2011-12-09 12:50:00   4.15      12680.0          France  \n",
              "1067368  2011-12-09 12:50:00   4.15      12680.0          France  \n",
              "1067369  2011-12-09 12:50:00   4.95      12680.0          France  \n",
              "1067370  2011-12-09 12:50:00  18.00      12680.0          France  \n",
              "\n",
              "[1067371 rows x 8 columns]"
            ],
            "text/html": [
              "\n",
              "  <div id=\"df-ddd6ac00-47e9-42fc-8fcc-66d6d32bfe62\">\n",
              "    <div class=\"colab-df-container\">\n",
              "      <div>\n",
              "<style scoped>\n",
              "    .dataframe tbody tr th:only-of-type {\n",
              "        vertical-align: middle;\n",
              "    }\n",
              "\n",
              "    .dataframe tbody tr th {\n",
              "        vertical-align: top;\n",
              "    }\n",
              "\n",
              "    .dataframe thead th {\n",
              "        text-align: right;\n",
              "    }\n",
              "</style>\n",
              "<table border=\"1\" class=\"dataframe\">\n",
              "  <thead>\n",
              "    <tr style=\"text-align: right;\">\n",
              "      <th></th>\n",
              "      <th>Invoice</th>\n",
              "      <th>StockCode</th>\n",
              "      <th>Description</th>\n",
              "      <th>Quantity</th>\n",
              "      <th>InvoiceDate</th>\n",
              "      <th>Price</th>\n",
              "      <th>Customer ID</th>\n",
              "      <th>Country</th>\n",
              "    </tr>\n",
              "  </thead>\n",
              "  <tbody>\n",
              "    <tr>\n",
              "      <th>0</th>\n",
              "      <td>489434</td>\n",
              "      <td>85048</td>\n",
              "      <td>15CM CHRISTMAS GLASS BALL 20 LIGHTS</td>\n",
              "      <td>12</td>\n",
              "      <td>2009-12-01 07:45:00</td>\n",
              "      <td>6.95</td>\n",
              "      <td>13085.0</td>\n",
              "      <td>United Kingdom</td>\n",
              "    </tr>\n",
              "    <tr>\n",
              "      <th>1</th>\n",
              "      <td>489434</td>\n",
              "      <td>79323P</td>\n",
              "      <td>PINK CHERRY LIGHTS</td>\n",
              "      <td>12</td>\n",
              "      <td>2009-12-01 07:45:00</td>\n",
              "      <td>6.75</td>\n",
              "      <td>13085.0</td>\n",
              "      <td>United Kingdom</td>\n",
              "    </tr>\n",
              "    <tr>\n",
              "      <th>2</th>\n",
              "      <td>489434</td>\n",
              "      <td>79323W</td>\n",
              "      <td>WHITE CHERRY LIGHTS</td>\n",
              "      <td>12</td>\n",
              "      <td>2009-12-01 07:45:00</td>\n",
              "      <td>6.75</td>\n",
              "      <td>13085.0</td>\n",
              "      <td>United Kingdom</td>\n",
              "    </tr>\n",
              "    <tr>\n",
              "      <th>3</th>\n",
              "      <td>489434</td>\n",
              "      <td>22041</td>\n",
              "      <td>RECORD FRAME 7\" SINGLE SIZE</td>\n",
              "      <td>48</td>\n",
              "      <td>2009-12-01 07:45:00</td>\n",
              "      <td>2.10</td>\n",
              "      <td>13085.0</td>\n",
              "      <td>United Kingdom</td>\n",
              "    </tr>\n",
              "    <tr>\n",
              "      <th>4</th>\n",
              "      <td>489434</td>\n",
              "      <td>21232</td>\n",
              "      <td>STRAWBERRY CERAMIC TRINKET BOX</td>\n",
              "      <td>24</td>\n",
              "      <td>2009-12-01 07:45:00</td>\n",
              "      <td>1.25</td>\n",
              "      <td>13085.0</td>\n",
              "      <td>United Kingdom</td>\n",
              "    </tr>\n",
              "    <tr>\n",
              "      <th>...</th>\n",
              "      <td>...</td>\n",
              "      <td>...</td>\n",
              "      <td>...</td>\n",
              "      <td>...</td>\n",
              "      <td>...</td>\n",
              "      <td>...</td>\n",
              "      <td>...</td>\n",
              "      <td>...</td>\n",
              "    </tr>\n",
              "    <tr>\n",
              "      <th>1067366</th>\n",
              "      <td>581587</td>\n",
              "      <td>22899</td>\n",
              "      <td>CHILDREN'S APRON DOLLY GIRL</td>\n",
              "      <td>6</td>\n",
              "      <td>2011-12-09 12:50:00</td>\n",
              "      <td>2.10</td>\n",
              "      <td>12680.0</td>\n",
              "      <td>France</td>\n",
              "    </tr>\n",
              "    <tr>\n",
              "      <th>1067367</th>\n",
              "      <td>581587</td>\n",
              "      <td>23254</td>\n",
              "      <td>CHILDRENS CUTLERY DOLLY GIRL</td>\n",
              "      <td>4</td>\n",
              "      <td>2011-12-09 12:50:00</td>\n",
              "      <td>4.15</td>\n",
              "      <td>12680.0</td>\n",
              "      <td>France</td>\n",
              "    </tr>\n",
              "    <tr>\n",
              "      <th>1067368</th>\n",
              "      <td>581587</td>\n",
              "      <td>23255</td>\n",
              "      <td>CHILDRENS CUTLERY CIRCUS PARADE</td>\n",
              "      <td>4</td>\n",
              "      <td>2011-12-09 12:50:00</td>\n",
              "      <td>4.15</td>\n",
              "      <td>12680.0</td>\n",
              "      <td>France</td>\n",
              "    </tr>\n",
              "    <tr>\n",
              "      <th>1067369</th>\n",
              "      <td>581587</td>\n",
              "      <td>22138</td>\n",
              "      <td>BAKING SET 9 PIECE RETROSPOT</td>\n",
              "      <td>3</td>\n",
              "      <td>2011-12-09 12:50:00</td>\n",
              "      <td>4.95</td>\n",
              "      <td>12680.0</td>\n",
              "      <td>France</td>\n",
              "    </tr>\n",
              "    <tr>\n",
              "      <th>1067370</th>\n",
              "      <td>581587</td>\n",
              "      <td>POST</td>\n",
              "      <td>POSTAGE</td>\n",
              "      <td>1</td>\n",
              "      <td>2011-12-09 12:50:00</td>\n",
              "      <td>18.00</td>\n",
              "      <td>12680.0</td>\n",
              "      <td>France</td>\n",
              "    </tr>\n",
              "  </tbody>\n",
              "</table>\n",
              "<p>1067371 rows × 8 columns</p>\n",
              "</div>\n",
              "      <button class=\"colab-df-convert\" onclick=\"convertToInteractive('df-ddd6ac00-47e9-42fc-8fcc-66d6d32bfe62')\"\n",
              "              title=\"Convert this dataframe to an interactive table.\"\n",
              "              style=\"display:none;\">\n",
              "        \n",
              "  <svg xmlns=\"http://www.w3.org/2000/svg\" height=\"24px\"viewBox=\"0 0 24 24\"\n",
              "       width=\"24px\">\n",
              "    <path d=\"M0 0h24v24H0V0z\" fill=\"none\"/>\n",
              "    <path d=\"M18.56 5.44l.94 2.06.94-2.06 2.06-.94-2.06-.94-.94-2.06-.94 2.06-2.06.94zm-11 1L8.5 8.5l.94-2.06 2.06-.94-2.06-.94L8.5 2.5l-.94 2.06-2.06.94zm10 10l.94 2.06.94-2.06 2.06-.94-2.06-.94-.94-2.06-.94 2.06-2.06.94z\"/><path d=\"M17.41 7.96l-1.37-1.37c-.4-.4-.92-.59-1.43-.59-.52 0-1.04.2-1.43.59L10.3 9.45l-7.72 7.72c-.78.78-.78 2.05 0 2.83L4 21.41c.39.39.9.59 1.41.59.51 0 1.02-.2 1.41-.59l7.78-7.78 2.81-2.81c.8-.78.8-2.07 0-2.86zM5.41 20L4 18.59l7.72-7.72 1.47 1.35L5.41 20z\"/>\n",
              "  </svg>\n",
              "      </button>\n",
              "      \n",
              "  <style>\n",
              "    .colab-df-container {\n",
              "      display:flex;\n",
              "      flex-wrap:wrap;\n",
              "      gap: 12px;\n",
              "    }\n",
              "\n",
              "    .colab-df-convert {\n",
              "      background-color: #E8F0FE;\n",
              "      border: none;\n",
              "      border-radius: 50%;\n",
              "      cursor: pointer;\n",
              "      display: none;\n",
              "      fill: #1967D2;\n",
              "      height: 32px;\n",
              "      padding: 0 0 0 0;\n",
              "      width: 32px;\n",
              "    }\n",
              "\n",
              "    .colab-df-convert:hover {\n",
              "      background-color: #E2EBFA;\n",
              "      box-shadow: 0px 1px 2px rgba(60, 64, 67, 0.3), 0px 1px 3px 1px rgba(60, 64, 67, 0.15);\n",
              "      fill: #174EA6;\n",
              "    }\n",
              "\n",
              "    [theme=dark] .colab-df-convert {\n",
              "      background-color: #3B4455;\n",
              "      fill: #D2E3FC;\n",
              "    }\n",
              "\n",
              "    [theme=dark] .colab-df-convert:hover {\n",
              "      background-color: #434B5C;\n",
              "      box-shadow: 0px 1px 3px 1px rgba(0, 0, 0, 0.15);\n",
              "      filter: drop-shadow(0px 1px 2px rgba(0, 0, 0, 0.3));\n",
              "      fill: #FFFFFF;\n",
              "    }\n",
              "  </style>\n",
              "\n",
              "      <script>\n",
              "        const buttonEl =\n",
              "          document.querySelector('#df-ddd6ac00-47e9-42fc-8fcc-66d6d32bfe62 button.colab-df-convert');\n",
              "        buttonEl.style.display =\n",
              "          google.colab.kernel.accessAllowed ? 'block' : 'none';\n",
              "\n",
              "        async function convertToInteractive(key) {\n",
              "          const element = document.querySelector('#df-ddd6ac00-47e9-42fc-8fcc-66d6d32bfe62');\n",
              "          const dataTable =\n",
              "            await google.colab.kernel.invokeFunction('convertToInteractive',\n",
              "                                                     [key], {});\n",
              "          if (!dataTable) return;\n",
              "\n",
              "          const docLinkHtml = 'Like what you see? Visit the ' +\n",
              "            '<a target=\"_blank\" href=https://colab.research.google.com/notebooks/data_table.ipynb>data table notebook</a>'\n",
              "            + ' to learn more about interactive tables.';\n",
              "          element.innerHTML = '';\n",
              "          dataTable['output_type'] = 'display_data';\n",
              "          await google.colab.output.renderOutput(dataTable, element);\n",
              "          const docLink = document.createElement('div');\n",
              "          docLink.innerHTML = docLinkHtml;\n",
              "          element.appendChild(docLink);\n",
              "        }\n",
              "      </script>\n",
              "    </div>\n",
              "  </div>\n",
              "  "
            ]
          },
          "metadata": {},
          "execution_count": 27
        }
      ]
    },
    {
      "cell_type": "code",
      "source": [
        "df[df['InvoiceDate'].str.contains('2010')]"
      ],
      "metadata": {
        "id": "lTA3TvYf2Fup"
      },
      "id": "lTA3TvYf2Fup",
      "execution_count": null,
      "outputs": []
    },
    {
      "cell_type": "code",
      "source": [
        "invoice_cancel = df[df['Invoice'].str.contains('C')]\n",
        "print(invoice_cancel)"
      ],
      "metadata": {
        "colab": {
          "base_uri": "https://localhost:8080/"
        },
        "id": "m0ppdkR5XGa3",
        "outputId": "a1a54ef3-5560-46ed-8b6f-64cb371cecf7"
      },
      "id": "m0ppdkR5XGa3",
      "execution_count": null,
      "outputs": [
        {
          "output_type": "stream",
          "name": "stdout",
          "text": [
            "         Invoice StockCode                       Description  Quantity  \\\n",
            "178      C489449     22087          PAPER BUNTING WHITE LACE       -12   \n",
            "179      C489449    85206A      CREAM FELT EASTER EGG BASKET        -6   \n",
            "180      C489449     21895     POTTING SHED SOW 'N' GROW SET        -4   \n",
            "181      C489449     21896                POTTING SHED TWINE        -6   \n",
            "182      C489449     22083        PAPER CHAIN KIT RETRO SPOT       -12   \n",
            "...          ...       ...                               ...       ...   \n",
            "1065910  C581490     23144   ZINC T-LIGHT HOLDER STARS SMALL       -11   \n",
            "1067002  C581499         M                            Manual        -1   \n",
            "1067176  C581568     21258        VICTORIAN SEWING BOX LARGE        -5   \n",
            "1067177  C581569     84978  HANGING HEART JAR T-LIGHT HOLDER        -1   \n",
            "1067178  C581569     20979     36 PENCILS TUBE RED RETROSPOT        -5   \n",
            "\n",
            "                 InvoiceDate   Price  Customer ID         Country  \n",
            "178      2009-12-01 10:33:00    2.95      16321.0       Australia  \n",
            "179      2009-12-01 10:33:00    1.65      16321.0       Australia  \n",
            "180      2009-12-01 10:33:00    4.25      16321.0       Australia  \n",
            "181      2009-12-01 10:33:00    2.10      16321.0       Australia  \n",
            "182      2009-12-01 10:33:00    2.95      16321.0       Australia  \n",
            "...                      ...     ...          ...             ...  \n",
            "1065910  2011-12-09 09:57:00    0.83      14397.0  United Kingdom  \n",
            "1067002  2011-12-09 10:28:00  224.69      15498.0  United Kingdom  \n",
            "1067176  2011-12-09 11:57:00   10.95      15311.0  United Kingdom  \n",
            "1067177  2011-12-09 11:58:00    1.25      17315.0  United Kingdom  \n",
            "1067178  2011-12-09 11:58:00    1.25      17315.0  United Kingdom  \n",
            "\n",
            "[19494 rows x 8 columns]\n"
          ]
        }
      ]
    },
    {
      "cell_type": "code",
      "source": [
        "jumlah_data = invoice_cancel.shape\n",
        "print(jumlah_data)"
      ],
      "metadata": {
        "colab": {
          "base_uri": "https://localhost:8080/"
        },
        "id": "eQghb49SYT5p",
        "outputId": "69d356fb-bb4f-49c3-de8d-3eb8493c37be"
      },
      "id": "eQghb49SYT5p",
      "execution_count": null,
      "outputs": [
        {
          "output_type": "stream",
          "name": "stdout",
          "text": [
            "(19494, 8)\n"
          ]
        }
      ]
    },
    {
      "cell_type": "code",
      "source": [
        "df.shape"
      ],
      "metadata": {
        "colab": {
          "base_uri": "https://localhost:8080/"
        },
        "id": "I11QZOQtVyOU",
        "outputId": "c7c4e29d-1ceb-41e8-8978-46f8dcf27948"
      },
      "id": "I11QZOQtVyOU",
      "execution_count": null,
      "outputs": [
        {
          "output_type": "execute_result",
          "data": {
            "text/plain": [
              "(1067371, 8)"
            ]
          },
          "metadata": {},
          "execution_count": 33
        }
      ]
    },
    {
      "cell_type": "code",
      "source": [
        "df.info()"
      ],
      "metadata": {
        "colab": {
          "base_uri": "https://localhost:8080/"
        },
        "id": "LqpLonC8W0fR",
        "outputId": "3e83af73-cf33-45a2-c705-3d58beb2e704"
      },
      "id": "LqpLonC8W0fR",
      "execution_count": null,
      "outputs": [
        {
          "output_type": "stream",
          "name": "stdout",
          "text": [
            "<class 'pandas.core.frame.DataFrame'>\n",
            "RangeIndex: 1067371 entries, 0 to 1067370\n",
            "Data columns (total 8 columns):\n",
            " #   Column       Non-Null Count    Dtype  \n",
            "---  ------       --------------    -----  \n",
            " 0   Invoice      1067371 non-null  object \n",
            " 1   StockCode    1067371 non-null  object \n",
            " 2   Description  1062989 non-null  object \n",
            " 3   Quantity     1067371 non-null  int64  \n",
            " 4   InvoiceDate  1067371 non-null  object \n",
            " 5   Price        1067371 non-null  float64\n",
            " 6   Customer ID  824364 non-null   float64\n",
            " 7   Country      1067371 non-null  object \n",
            "dtypes: float64(2), int64(1), object(5)\n",
            "memory usage: 65.1+ MB\n"
          ]
        }
      ]
    },
    {
      "cell_type": "code",
      "source": [
        "df.isnull().sum()"
      ],
      "metadata": {
        "colab": {
          "base_uri": "https://localhost:8080/"
        },
        "id": "5Bq0OJaBVmuK",
        "outputId": "c09edce9-50bc-4450-efee-663e607a217a"
      },
      "id": "5Bq0OJaBVmuK",
      "execution_count": null,
      "outputs": [
        {
          "output_type": "execute_result",
          "data": {
            "text/plain": [
              "Invoice             0\n",
              "StockCode           0\n",
              "Description      4382\n",
              "Quantity            0\n",
              "InvoiceDate         0\n",
              "Price               0\n",
              "Customer ID    243007\n",
              "Country             0\n",
              "dtype: int64"
            ]
          },
          "metadata": {},
          "execution_count": 35
        }
      ]
    },
    {
      "cell_type": "markdown",
      "id": "794e2063",
      "metadata": {
        "id": "794e2063"
      },
      "source": [
        "## Section 1"
      ]
    },
    {
      "cell_type": "markdown",
      "id": "0ead195f",
      "metadata": {
        "id": "0ead195f"
      },
      "source": [
        "### Create New Feature: Year"
      ]
    },
    {
      "cell_type": "code",
      "execution_count": null,
      "id": "5a1281e7",
      "metadata": {
        "id": "5a1281e7"
      },
      "outputs": [],
      "source": [
        "df['InvoiceDate'] = pd.to_datetime(df['InvoiceDate'])"
      ]
    },
    {
      "cell_type": "code",
      "source": [
        "df['Year'] = pd.DatetimeIndex(df['InvoiceDate']).year"
      ],
      "metadata": {
        "id": "6QAgh01_ZvFL"
      },
      "id": "6QAgh01_ZvFL",
      "execution_count": null,
      "outputs": []
    },
    {
      "cell_type": "code",
      "source": [
        "df['Year'] = df['Year'].fillna(0).astype(int)"
      ],
      "metadata": {
        "id": "Ewfd928yd1b-"
      },
      "id": "Ewfd928yd1b-",
      "execution_count": null,
      "outputs": []
    },
    {
      "cell_type": "code",
      "source": [
        "df.tail()"
      ],
      "metadata": {
        "colab": {
          "base_uri": "https://localhost:8080/",
          "height": 206
        },
        "id": "CFaYRgZoZ5aE",
        "outputId": "4f69cdf2-703d-475b-ccc4-b88ca821c1c8"
      },
      "id": "CFaYRgZoZ5aE",
      "execution_count": null,
      "outputs": [
        {
          "output_type": "execute_result",
          "data": {
            "text/plain": [
              "        Invoice StockCode                      Description  Quantity  \\\n",
              "1067366  581587     22899     CHILDREN'S APRON DOLLY GIRL          6   \n",
              "1067367  581587     23254    CHILDRENS CUTLERY DOLLY GIRL          4   \n",
              "1067368  581587     23255  CHILDRENS CUTLERY CIRCUS PARADE         4   \n",
              "1067369  581587     22138    BAKING SET 9 PIECE RETROSPOT          3   \n",
              "1067370  581587      POST                          POSTAGE         1   \n",
              "\n",
              "                InvoiceDate  Price  Customer ID Country  Year  \n",
              "1067366 2011-12-09 12:50:00   2.10      12680.0  France  2011  \n",
              "1067367 2011-12-09 12:50:00   4.15      12680.0  France  2011  \n",
              "1067368 2011-12-09 12:50:00   4.15      12680.0  France  2011  \n",
              "1067369 2011-12-09 12:50:00   4.95      12680.0  France  2011  \n",
              "1067370 2011-12-09 12:50:00  18.00      12680.0  France  2011  "
            ],
            "text/html": [
              "\n",
              "  <div id=\"df-483ae422-8799-49bc-94a4-80766674a03b\">\n",
              "    <div class=\"colab-df-container\">\n",
              "      <div>\n",
              "<style scoped>\n",
              "    .dataframe tbody tr th:only-of-type {\n",
              "        vertical-align: middle;\n",
              "    }\n",
              "\n",
              "    .dataframe tbody tr th {\n",
              "        vertical-align: top;\n",
              "    }\n",
              "\n",
              "    .dataframe thead th {\n",
              "        text-align: right;\n",
              "    }\n",
              "</style>\n",
              "<table border=\"1\" class=\"dataframe\">\n",
              "  <thead>\n",
              "    <tr style=\"text-align: right;\">\n",
              "      <th></th>\n",
              "      <th>Invoice</th>\n",
              "      <th>StockCode</th>\n",
              "      <th>Description</th>\n",
              "      <th>Quantity</th>\n",
              "      <th>InvoiceDate</th>\n",
              "      <th>Price</th>\n",
              "      <th>Customer ID</th>\n",
              "      <th>Country</th>\n",
              "      <th>Year</th>\n",
              "    </tr>\n",
              "  </thead>\n",
              "  <tbody>\n",
              "    <tr>\n",
              "      <th>1067366</th>\n",
              "      <td>581587</td>\n",
              "      <td>22899</td>\n",
              "      <td>CHILDREN'S APRON DOLLY GIRL</td>\n",
              "      <td>6</td>\n",
              "      <td>2011-12-09 12:50:00</td>\n",
              "      <td>2.10</td>\n",
              "      <td>12680.0</td>\n",
              "      <td>France</td>\n",
              "      <td>2011</td>\n",
              "    </tr>\n",
              "    <tr>\n",
              "      <th>1067367</th>\n",
              "      <td>581587</td>\n",
              "      <td>23254</td>\n",
              "      <td>CHILDRENS CUTLERY DOLLY GIRL</td>\n",
              "      <td>4</td>\n",
              "      <td>2011-12-09 12:50:00</td>\n",
              "      <td>4.15</td>\n",
              "      <td>12680.0</td>\n",
              "      <td>France</td>\n",
              "      <td>2011</td>\n",
              "    </tr>\n",
              "    <tr>\n",
              "      <th>1067368</th>\n",
              "      <td>581587</td>\n",
              "      <td>23255</td>\n",
              "      <td>CHILDRENS CUTLERY CIRCUS PARADE</td>\n",
              "      <td>4</td>\n",
              "      <td>2011-12-09 12:50:00</td>\n",
              "      <td>4.15</td>\n",
              "      <td>12680.0</td>\n",
              "      <td>France</td>\n",
              "      <td>2011</td>\n",
              "    </tr>\n",
              "    <tr>\n",
              "      <th>1067369</th>\n",
              "      <td>581587</td>\n",
              "      <td>22138</td>\n",
              "      <td>BAKING SET 9 PIECE RETROSPOT</td>\n",
              "      <td>3</td>\n",
              "      <td>2011-12-09 12:50:00</td>\n",
              "      <td>4.95</td>\n",
              "      <td>12680.0</td>\n",
              "      <td>France</td>\n",
              "      <td>2011</td>\n",
              "    </tr>\n",
              "    <tr>\n",
              "      <th>1067370</th>\n",
              "      <td>581587</td>\n",
              "      <td>POST</td>\n",
              "      <td>POSTAGE</td>\n",
              "      <td>1</td>\n",
              "      <td>2011-12-09 12:50:00</td>\n",
              "      <td>18.00</td>\n",
              "      <td>12680.0</td>\n",
              "      <td>France</td>\n",
              "      <td>2011</td>\n",
              "    </tr>\n",
              "  </tbody>\n",
              "</table>\n",
              "</div>\n",
              "      <button class=\"colab-df-convert\" onclick=\"convertToInteractive('df-483ae422-8799-49bc-94a4-80766674a03b')\"\n",
              "              title=\"Convert this dataframe to an interactive table.\"\n",
              "              style=\"display:none;\">\n",
              "        \n",
              "  <svg xmlns=\"http://www.w3.org/2000/svg\" height=\"24px\"viewBox=\"0 0 24 24\"\n",
              "       width=\"24px\">\n",
              "    <path d=\"M0 0h24v24H0V0z\" fill=\"none\"/>\n",
              "    <path d=\"M18.56 5.44l.94 2.06.94-2.06 2.06-.94-2.06-.94-.94-2.06-.94 2.06-2.06.94zm-11 1L8.5 8.5l.94-2.06 2.06-.94-2.06-.94L8.5 2.5l-.94 2.06-2.06.94zm10 10l.94 2.06.94-2.06 2.06-.94-2.06-.94-.94-2.06-.94 2.06-2.06.94z\"/><path d=\"M17.41 7.96l-1.37-1.37c-.4-.4-.92-.59-1.43-.59-.52 0-1.04.2-1.43.59L10.3 9.45l-7.72 7.72c-.78.78-.78 2.05 0 2.83L4 21.41c.39.39.9.59 1.41.59.51 0 1.02-.2 1.41-.59l7.78-7.78 2.81-2.81c.8-.78.8-2.07 0-2.86zM5.41 20L4 18.59l7.72-7.72 1.47 1.35L5.41 20z\"/>\n",
              "  </svg>\n",
              "      </button>\n",
              "      \n",
              "  <style>\n",
              "    .colab-df-container {\n",
              "      display:flex;\n",
              "      flex-wrap:wrap;\n",
              "      gap: 12px;\n",
              "    }\n",
              "\n",
              "    .colab-df-convert {\n",
              "      background-color: #E8F0FE;\n",
              "      border: none;\n",
              "      border-radius: 50%;\n",
              "      cursor: pointer;\n",
              "      display: none;\n",
              "      fill: #1967D2;\n",
              "      height: 32px;\n",
              "      padding: 0 0 0 0;\n",
              "      width: 32px;\n",
              "    }\n",
              "\n",
              "    .colab-df-convert:hover {\n",
              "      background-color: #E2EBFA;\n",
              "      box-shadow: 0px 1px 2px rgba(60, 64, 67, 0.3), 0px 1px 3px 1px rgba(60, 64, 67, 0.15);\n",
              "      fill: #174EA6;\n",
              "    }\n",
              "\n",
              "    [theme=dark] .colab-df-convert {\n",
              "      background-color: #3B4455;\n",
              "      fill: #D2E3FC;\n",
              "    }\n",
              "\n",
              "    [theme=dark] .colab-df-convert:hover {\n",
              "      background-color: #434B5C;\n",
              "      box-shadow: 0px 1px 3px 1px rgba(0, 0, 0, 0.15);\n",
              "      filter: drop-shadow(0px 1px 2px rgba(0, 0, 0, 0.3));\n",
              "      fill: #FFFFFF;\n",
              "    }\n",
              "  </style>\n",
              "\n",
              "      <script>\n",
              "        const buttonEl =\n",
              "          document.querySelector('#df-483ae422-8799-49bc-94a4-80766674a03b button.colab-df-convert');\n",
              "        buttonEl.style.display =\n",
              "          google.colab.kernel.accessAllowed ? 'block' : 'none';\n",
              "\n",
              "        async function convertToInteractive(key) {\n",
              "          const element = document.querySelector('#df-483ae422-8799-49bc-94a4-80766674a03b');\n",
              "          const dataTable =\n",
              "            await google.colab.kernel.invokeFunction('convertToInteractive',\n",
              "                                                     [key], {});\n",
              "          if (!dataTable) return;\n",
              "\n",
              "          const docLinkHtml = 'Like what you see? Visit the ' +\n",
              "            '<a target=\"_blank\" href=https://colab.research.google.com/notebooks/data_table.ipynb>data table notebook</a>'\n",
              "            + ' to learn more about interactive tables.';\n",
              "          element.innerHTML = '';\n",
              "          dataTable['output_type'] = 'display_data';\n",
              "          await google.colab.output.renderOutput(dataTable, element);\n",
              "          const docLink = document.createElement('div');\n",
              "          docLink.innerHTML = docLinkHtml;\n",
              "          element.appendChild(docLink);\n",
              "        }\n",
              "      </script>\n",
              "    </div>\n",
              "  </div>\n",
              "  "
            ]
          },
          "metadata": {},
          "execution_count": 40
        }
      ]
    },
    {
      "cell_type": "markdown",
      "id": "9a9f5438",
      "metadata": {
        "id": "9a9f5438"
      },
      "source": [
        "### Filtering Data"
      ]
    },
    {
      "cell_type": "code",
      "execution_count": null,
      "id": "547a9e99",
      "metadata": {
        "id": "547a9e99"
      },
      "outputs": [],
      "source": [
        "sales = df[ (df['Quantity']>0) & (~df['Invoice'].str.startswith('C')) ]"
      ]
    },
    {
      "cell_type": "markdown",
      "id": "0bef109f",
      "metadata": {
        "id": "0bef109f"
      },
      "source": [
        "### Create New Feature: Revenue"
      ]
    },
    {
      "cell_type": "code",
      "source": [
        "sales_copy = sales.copy()\n",
        "sales_copy.loc[:, 'Revenue'] = sales_copy['Quantity'] * sales_copy['Price']\n"
      ],
      "metadata": {
        "id": "pw1DaILn-uvY"
      },
      "id": "pw1DaILn-uvY",
      "execution_count": null,
      "outputs": []
    },
    {
      "cell_type": "code",
      "source": [
        "sales_copy.head()"
      ],
      "metadata": {
        "colab": {
          "base_uri": "https://localhost:8080/",
          "height": 206
        },
        "id": "4HBJgZXxbNrR",
        "outputId": "e2797982-4c5f-43ec-b97d-f1494b3b75e7"
      },
      "id": "4HBJgZXxbNrR",
      "execution_count": null,
      "outputs": [
        {
          "output_type": "execute_result",
          "data": {
            "text/plain": [
              "  Invoice StockCode                          Description  Quantity  \\\n",
              "0  489434     85048  15CM CHRISTMAS GLASS BALL 20 LIGHTS        12   \n",
              "1  489434    79323P                   PINK CHERRY LIGHTS        12   \n",
              "2  489434    79323W                  WHITE CHERRY LIGHTS        12   \n",
              "3  489434     22041         RECORD FRAME 7\" SINGLE SIZE         48   \n",
              "4  489434     21232       STRAWBERRY CERAMIC TRINKET BOX        24   \n",
              "\n",
              "          InvoiceDate  Price  Customer ID         Country  Year  Revenue  \n",
              "0 2009-12-01 07:45:00   6.95      13085.0  United Kingdom  2009     83.4  \n",
              "1 2009-12-01 07:45:00   6.75      13085.0  United Kingdom  2009     81.0  \n",
              "2 2009-12-01 07:45:00   6.75      13085.0  United Kingdom  2009     81.0  \n",
              "3 2009-12-01 07:45:00   2.10      13085.0  United Kingdom  2009    100.8  \n",
              "4 2009-12-01 07:45:00   1.25      13085.0  United Kingdom  2009     30.0  "
            ],
            "text/html": [
              "\n",
              "  <div id=\"df-5c722e25-0f7b-41a8-946a-49d1cef75942\">\n",
              "    <div class=\"colab-df-container\">\n",
              "      <div>\n",
              "<style scoped>\n",
              "    .dataframe tbody tr th:only-of-type {\n",
              "        vertical-align: middle;\n",
              "    }\n",
              "\n",
              "    .dataframe tbody tr th {\n",
              "        vertical-align: top;\n",
              "    }\n",
              "\n",
              "    .dataframe thead th {\n",
              "        text-align: right;\n",
              "    }\n",
              "</style>\n",
              "<table border=\"1\" class=\"dataframe\">\n",
              "  <thead>\n",
              "    <tr style=\"text-align: right;\">\n",
              "      <th></th>\n",
              "      <th>Invoice</th>\n",
              "      <th>StockCode</th>\n",
              "      <th>Description</th>\n",
              "      <th>Quantity</th>\n",
              "      <th>InvoiceDate</th>\n",
              "      <th>Price</th>\n",
              "      <th>Customer ID</th>\n",
              "      <th>Country</th>\n",
              "      <th>Year</th>\n",
              "      <th>Revenue</th>\n",
              "    </tr>\n",
              "  </thead>\n",
              "  <tbody>\n",
              "    <tr>\n",
              "      <th>0</th>\n",
              "      <td>489434</td>\n",
              "      <td>85048</td>\n",
              "      <td>15CM CHRISTMAS GLASS BALL 20 LIGHTS</td>\n",
              "      <td>12</td>\n",
              "      <td>2009-12-01 07:45:00</td>\n",
              "      <td>6.95</td>\n",
              "      <td>13085.0</td>\n",
              "      <td>United Kingdom</td>\n",
              "      <td>2009</td>\n",
              "      <td>83.4</td>\n",
              "    </tr>\n",
              "    <tr>\n",
              "      <th>1</th>\n",
              "      <td>489434</td>\n",
              "      <td>79323P</td>\n",
              "      <td>PINK CHERRY LIGHTS</td>\n",
              "      <td>12</td>\n",
              "      <td>2009-12-01 07:45:00</td>\n",
              "      <td>6.75</td>\n",
              "      <td>13085.0</td>\n",
              "      <td>United Kingdom</td>\n",
              "      <td>2009</td>\n",
              "      <td>81.0</td>\n",
              "    </tr>\n",
              "    <tr>\n",
              "      <th>2</th>\n",
              "      <td>489434</td>\n",
              "      <td>79323W</td>\n",
              "      <td>WHITE CHERRY LIGHTS</td>\n",
              "      <td>12</td>\n",
              "      <td>2009-12-01 07:45:00</td>\n",
              "      <td>6.75</td>\n",
              "      <td>13085.0</td>\n",
              "      <td>United Kingdom</td>\n",
              "      <td>2009</td>\n",
              "      <td>81.0</td>\n",
              "    </tr>\n",
              "    <tr>\n",
              "      <th>3</th>\n",
              "      <td>489434</td>\n",
              "      <td>22041</td>\n",
              "      <td>RECORD FRAME 7\" SINGLE SIZE</td>\n",
              "      <td>48</td>\n",
              "      <td>2009-12-01 07:45:00</td>\n",
              "      <td>2.10</td>\n",
              "      <td>13085.0</td>\n",
              "      <td>United Kingdom</td>\n",
              "      <td>2009</td>\n",
              "      <td>100.8</td>\n",
              "    </tr>\n",
              "    <tr>\n",
              "      <th>4</th>\n",
              "      <td>489434</td>\n",
              "      <td>21232</td>\n",
              "      <td>STRAWBERRY CERAMIC TRINKET BOX</td>\n",
              "      <td>24</td>\n",
              "      <td>2009-12-01 07:45:00</td>\n",
              "      <td>1.25</td>\n",
              "      <td>13085.0</td>\n",
              "      <td>United Kingdom</td>\n",
              "      <td>2009</td>\n",
              "      <td>30.0</td>\n",
              "    </tr>\n",
              "  </tbody>\n",
              "</table>\n",
              "</div>\n",
              "      <button class=\"colab-df-convert\" onclick=\"convertToInteractive('df-5c722e25-0f7b-41a8-946a-49d1cef75942')\"\n",
              "              title=\"Convert this dataframe to an interactive table.\"\n",
              "              style=\"display:none;\">\n",
              "        \n",
              "  <svg xmlns=\"http://www.w3.org/2000/svg\" height=\"24px\"viewBox=\"0 0 24 24\"\n",
              "       width=\"24px\">\n",
              "    <path d=\"M0 0h24v24H0V0z\" fill=\"none\"/>\n",
              "    <path d=\"M18.56 5.44l.94 2.06.94-2.06 2.06-.94-2.06-.94-.94-2.06-.94 2.06-2.06.94zm-11 1L8.5 8.5l.94-2.06 2.06-.94-2.06-.94L8.5 2.5l-.94 2.06-2.06.94zm10 10l.94 2.06.94-2.06 2.06-.94-2.06-.94-.94-2.06-.94 2.06-2.06.94z\"/><path d=\"M17.41 7.96l-1.37-1.37c-.4-.4-.92-.59-1.43-.59-.52 0-1.04.2-1.43.59L10.3 9.45l-7.72 7.72c-.78.78-.78 2.05 0 2.83L4 21.41c.39.39.9.59 1.41.59.51 0 1.02-.2 1.41-.59l7.78-7.78 2.81-2.81c.8-.78.8-2.07 0-2.86zM5.41 20L4 18.59l7.72-7.72 1.47 1.35L5.41 20z\"/>\n",
              "  </svg>\n",
              "      </button>\n",
              "      \n",
              "  <style>\n",
              "    .colab-df-container {\n",
              "      display:flex;\n",
              "      flex-wrap:wrap;\n",
              "      gap: 12px;\n",
              "    }\n",
              "\n",
              "    .colab-df-convert {\n",
              "      background-color: #E8F0FE;\n",
              "      border: none;\n",
              "      border-radius: 50%;\n",
              "      cursor: pointer;\n",
              "      display: none;\n",
              "      fill: #1967D2;\n",
              "      height: 32px;\n",
              "      padding: 0 0 0 0;\n",
              "      width: 32px;\n",
              "    }\n",
              "\n",
              "    .colab-df-convert:hover {\n",
              "      background-color: #E2EBFA;\n",
              "      box-shadow: 0px 1px 2px rgba(60, 64, 67, 0.3), 0px 1px 3px 1px rgba(60, 64, 67, 0.15);\n",
              "      fill: #174EA6;\n",
              "    }\n",
              "\n",
              "    [theme=dark] .colab-df-convert {\n",
              "      background-color: #3B4455;\n",
              "      fill: #D2E3FC;\n",
              "    }\n",
              "\n",
              "    [theme=dark] .colab-df-convert:hover {\n",
              "      background-color: #434B5C;\n",
              "      box-shadow: 0px 1px 3px 1px rgba(0, 0, 0, 0.15);\n",
              "      filter: drop-shadow(0px 1px 2px rgba(0, 0, 0, 0.3));\n",
              "      fill: #FFFFFF;\n",
              "    }\n",
              "  </style>\n",
              "\n",
              "      <script>\n",
              "        const buttonEl =\n",
              "          document.querySelector('#df-5c722e25-0f7b-41a8-946a-49d1cef75942 button.colab-df-convert');\n",
              "        buttonEl.style.display =\n",
              "          google.colab.kernel.accessAllowed ? 'block' : 'none';\n",
              "\n",
              "        async function convertToInteractive(key) {\n",
              "          const element = document.querySelector('#df-5c722e25-0f7b-41a8-946a-49d1cef75942');\n",
              "          const dataTable =\n",
              "            await google.colab.kernel.invokeFunction('convertToInteractive',\n",
              "                                                     [key], {});\n",
              "          if (!dataTable) return;\n",
              "\n",
              "          const docLinkHtml = 'Like what you see? Visit the ' +\n",
              "            '<a target=\"_blank\" href=https://colab.research.google.com/notebooks/data_table.ipynb>data table notebook</a>'\n",
              "            + ' to learn more about interactive tables.';\n",
              "          element.innerHTML = '';\n",
              "          dataTable['output_type'] = 'display_data';\n",
              "          await google.colab.output.renderOutput(dataTable, element);\n",
              "          const docLink = document.createElement('div');\n",
              "          docLink.innerHTML = docLinkHtml;\n",
              "          element.appendChild(docLink);\n",
              "        }\n",
              "      </script>\n",
              "    </div>\n",
              "  </div>\n",
              "  "
            ]
          },
          "metadata": {},
          "execution_count": 45
        }
      ]
    },
    {
      "cell_type": "markdown",
      "id": "c955f053",
      "metadata": {
        "id": "c955f053"
      },
      "source": [
        "### Average of Revenue per Year"
      ]
    },
    {
      "cell_type": "code",
      "execution_count": null,
      "id": "4a2e5ed4",
      "metadata": {
        "id": "4a2e5ed4",
        "colab": {
          "base_uri": "https://localhost:8080/"
        },
        "outputId": "c205e6cd-f190-41c6-aa7d-ca89a3d7735f"
      },
      "outputs": [
        {
          "output_type": "execute_result",
          "data": {
            "text/plain": [
              "Year\n",
              "2009    18.713273\n",
              "2010    19.908987\n",
              "2011    20.058767\n",
              "Name: Revenue, dtype: float64"
            ]
          },
          "metadata": {},
          "execution_count": 46
        }
      ],
      "source": [
        "revenue_per_year = sales_copy.groupby('Year')['Revenue'].mean()\n",
        "revenue_per_year"
      ]
    },
    {
      "cell_type": "code",
      "source": [
        "import matplotlib.pyplot as plt\n",
        "revenue_per_year.plot(kind='bar',\n",
        "                      xlabel='Year',\n",
        "                      color = 'red',\n",
        "                      ylabel='Average Revenue',\n",
        "                      title='Average Revenue Each Year')\n",
        "plt.xticks(rotation=0)\n",
        "plt.show()"
      ],
      "metadata": {
        "colab": {
          "base_uri": "https://localhost:8080/",
          "height": 472
        },
        "id": "Sg4OpM0Xbk7O",
        "outputId": "bb77455a-a01d-49eb-c329-8fb7a866fda6"
      },
      "id": "Sg4OpM0Xbk7O",
      "execution_count": null,
      "outputs": [
        {
          "output_type": "display_data",
          "data": {
            "text/plain": [
              "<Figure size 640x480 with 1 Axes>"
            ],
            "image/png": "[encoded data removed]"
          },
          "metadata": {}
        }
      ]
    },
    {
      "cell_type": "markdown",
      "id": "8823e17c",
      "metadata": {
        "id": "8823e17c"
      },
      "source": [
        "### Interpretation\n",
        "\n",
        "---\n",
        "Rata-rata pendapatan perusahaan yang terjadi di tahun 2009-2011 menunjukkan bahwa setiap tahunnya rata-rata pendapatan selalu naik dibandingkan tahun sebelumnya. Dapat dilihat dari visualisasi data di atas bahwa tahun 2011 merupakan tahun yang memiliki paling tinggi rata-rata pendapatannya dibandingkan tahun sebelumnya 2010 dan 2009. Begitupun dengan rata-rata pendapatan 2010 yang juga lebih tinggi dari tahun 2009.\n",
        "\n",
        "\n",
        "Hal ini membuktikan bahwa performa penjualan perusahaan ritel online dalam kurun waktu 3 tahun terakhir memiliki performa yang baik karena menunjukkan peningkatan yang baik setiap tahunnya.\n"
      ]
    },
    {
      "cell_type": "markdown",
      "id": "3739a278",
      "metadata": {
        "id": "3739a278"
      },
      "source": []
    },
    {
      "cell_type": "markdown",
      "id": "4ff5f5d4",
      "metadata": {
        "id": "4ff5f5d4"
      },
      "source": [
        "## Section 2"
      ]
    },
    {
      "cell_type": "markdown",
      "id": "8dadd5ef",
      "metadata": {
        "id": "8dadd5ef"
      },
      "source": [
        "### Filtering Data"
      ]
    },
    {
      "cell_type": "markdown",
      "id": "2c053fd2",
      "metadata": {
        "id": "2c053fd2"
      },
      "source": [
        "#### Customers who finished their purchases"
      ]
    },
    {
      "cell_type": "code",
      "execution_count": null,
      "id": "d992a159",
      "metadata": {
        "id": "d992a159"
      },
      "outputs": [],
      "source": [
        "finished = sales_copy[sales_copy['Customer ID'].notnull()]"
      ]
    },
    {
      "cell_type": "markdown",
      "id": "136b9900",
      "metadata": {
        "id": "136b9900"
      },
      "source": [
        "#### Customers who canceled their purchases"
      ]
    },
    {
      "cell_type": "code",
      "execution_count": null,
      "id": "98af92ed",
      "metadata": {
        "id": "98af92ed"
      },
      "outputs": [],
      "source": [
        "cancel = df[df['Invoice'].str.contains('C')]"
      ]
    },
    {
      "cell_type": "markdown",
      "id": "d3fbb31a",
      "metadata": {
        "id": "d3fbb31a"
      },
      "source": [
        "### Number of Finished and Canceled Transactions Each Year"
      ]
    },
    {
      "cell_type": "code",
      "execution_count": null,
      "id": "04158c66",
      "metadata": {
        "id": "04158c66"
      },
      "outputs": [],
      "source": [
        "transaction_finished = finished.groupby('Year')['Invoice'].count()"
      ]
    },
    {
      "cell_type": "code",
      "source": [
        "transaction_cancelled = cancel.groupby('Year')['Invoice'].count()"
      ],
      "metadata": {
        "id": "jtVRYXXqiYkp"
      },
      "id": "jtVRYXXqiYkp",
      "execution_count": null,
      "outputs": []
    },
    {
      "cell_type": "code",
      "source": [
        "print('Jumlah transaksi yang berhasil adalah : \\n', transaction_finished, '\\n')\n",
        "print('Jumlah transaksi yang dibatalkan adalah : \\n', transaction_cancelled)"
      ],
      "metadata": {
        "colab": {
          "base_uri": "https://localhost:8080/"
        },
        "id": "IGJ0K-W7h2b1",
        "outputId": "e09560ac-263f-42ea-b8df-f46b3d7af495"
      },
      "id": "IGJ0K-W7h2b1",
      "execution_count": null,
      "outputs": [
        {
          "output_type": "stream",
          "name": "stdout",
          "text": [
            "Jumlah transaksi yang berhasil adalah : \n",
            " Year\n",
            "2009     30761\n",
            "2010    403094\n",
            "2011    371765\n",
            "Name: Invoice, dtype: int64 \n",
            "\n",
            "Jumlah transaksi yang dibatalkan adalah : \n",
            " Year\n",
            "2009    1015\n",
            "2010    9919\n",
            "2011    8560\n",
            "Name: Invoice, dtype: int64\n"
          ]
        }
      ]
    },
    {
      "cell_type": "code",
      "source": [
        "plt.figure(figsize=(7, 5))\n",
        "transaction_finished.plot(kind='bar', color='blue', label='Finished Transactions', width=0.3)\n",
        "transaction_cancelled.plot(kind='bar', color='red', label='Cancelled Transactions', width=0.3)\n",
        "plt.xlabel('Year')\n",
        "plt.ylabel('Number of Transactions')\n",
        "plt.title('Finished vs Cancelled Transactions Each Year')\n",
        "plt.legend()\n",
        "plt.xticks(rotation=0)\n",
        "plt.show()"
      ],
      "metadata": {
        "colab": {
          "base_uri": "https://localhost:8080/",
          "height": 487
        },
        "id": "2HK1AhCHhJ8R",
        "outputId": "bd564dd9-4c45-4919-ab88-24f5fbb5f051"
      },
      "id": "2HK1AhCHhJ8R",
      "execution_count": null,
      "outputs": [
        {
          "output_type": "display_data",
          "data": {
            "text/plain": [
              "<Figure size 700x500 with 1 Axes>"
            ],
            "image/png": "[encoded data removed]"
          },
          "metadata": {}
        }
      ]
    },
    {
      "cell_type": "markdown",
      "source": [
        "Berdasarkan perbandingan jumlah transaksi yang berhasil dan jumlah transaksi yang dibatalkan untuk setiap tahun dalam perusahaan ritel online, dapat diketahui bahwa pada tahun 2010 transaksi penjualan paling banyak terjadi. Kemudian diikuti dengan tahun 2011. Dan transaksi penjualan yang paling sedikit terjadi adalah pada tahun 2009.\n",
        "\n",
        "Hal ini menunjukkan bahwa terjadi banyak peningkatan pada tahun 2009 ke 2010. Dan terjadi sedikit penurunan transaksi  dari tahun 2010 ke 2011.\n",
        "\n",
        "Pembatalan transaksi paling sedikit terjadi pada tahun 2009, sedangkan transaksi yang berhasil terjadi paling banyak terjadi pada tahun 2010 dengan peningkatan yang sangat pesat daripada tahun sebelumnya. Sedangkan pada tahun berikutnya yaitu 2011 terjadi sedikit penurunan baik transaksi yang dibatalkan atau transaksi yang berhasil terjadi,\n"
      ],
      "metadata": {
        "id": "KHm8kWUyIKXh"
      },
      "id": "KHm8kWUyIKXh"
    },
    {
      "cell_type": "code",
      "source": [
        "sales_copy.head()"
      ],
      "metadata": {
        "colab": {
          "base_uri": "https://localhost:8080/",
          "height": 206
        },
        "id": "XzfzdgYrkRd-",
        "outputId": "9a200d6c-3b8a-4e9d-e50d-38f576ed1fcc"
      },
      "id": "XzfzdgYrkRd-",
      "execution_count": null,
      "outputs": [
        {
          "output_type": "execute_result",
          "data": {
            "text/plain": [
              "  Invoice StockCode                          Description  Quantity  \\\n",
              "0  489434     85048  15CM CHRISTMAS GLASS BALL 20 LIGHTS        12   \n",
              "1  489434    79323P                   PINK CHERRY LIGHTS        12   \n",
              "2  489434    79323W                  WHITE CHERRY LIGHTS        12   \n",
              "3  489434     22041         RECORD FRAME 7\" SINGLE SIZE         48   \n",
              "4  489434     21232       STRAWBERRY CERAMIC TRINKET BOX        24   \n",
              "\n",
              "          InvoiceDate  Price  Customer ID         Country  Year  Revenue  \n",
              "0 2009-12-01 07:45:00   6.95      13085.0  United Kingdom  2009     83.4  \n",
              "1 2009-12-01 07:45:00   6.75      13085.0  United Kingdom  2009     81.0  \n",
              "2 2009-12-01 07:45:00   6.75      13085.0  United Kingdom  2009     81.0  \n",
              "3 2009-12-01 07:45:00   2.10      13085.0  United Kingdom  2009    100.8  \n",
              "4 2009-12-01 07:45:00   1.25      13085.0  United Kingdom  2009     30.0  "
            ],
            "text/html": [
              "\n",
              "  <div id=\"df-c8c82b11-9855-4725-b66d-71cc1cc32c6f\">\n",
              "    <div class=\"colab-df-container\">\n",
              "      <div>\n",
              "<style scoped>\n",
              "    .dataframe tbody tr th:only-of-type {\n",
              "        vertical-align: middle;\n",
              "    }\n",
              "\n",
              "    .dataframe tbody tr th {\n",
              "        vertical-align: top;\n",
              "    }\n",
              "\n",
              "    .dataframe thead th {\n",
              "        text-align: right;\n",
              "    }\n",
              "</style>\n",
              "<table border=\"1\" class=\"dataframe\">\n",
              "  <thead>\n",
              "    <tr style=\"text-align: right;\">\n",
              "      <th></th>\n",
              "      <th>Invoice</th>\n",
              "      <th>StockCode</th>\n",
              "      <th>Description</th>\n",
              "      <th>Quantity</th>\n",
              "      <th>InvoiceDate</th>\n",
              "      <th>Price</th>\n",
              "      <th>Customer ID</th>\n",
              "      <th>Country</th>\n",
              "      <th>Year</th>\n",
              "      <th>Revenue</th>\n",
              "    </tr>\n",
              "  </thead>\n",
              "  <tbody>\n",
              "    <tr>\n",
              "      <th>0</th>\n",
              "      <td>489434</td>\n",
              "      <td>85048</td>\n",
              "      <td>15CM CHRISTMAS GLASS BALL 20 LIGHTS</td>\n",
              "      <td>12</td>\n",
              "      <td>2009-12-01 07:45:00</td>\n",
              "      <td>6.95</td>\n",
              "      <td>13085.0</td>\n",
              "      <td>United Kingdom</td>\n",
              "      <td>2009</td>\n",
              "      <td>83.4</td>\n",
              "    </tr>\n",
              "    <tr>\n",
              "      <th>1</th>\n",
              "      <td>489434</td>\n",
              "      <td>79323P</td>\n",
              "      <td>PINK CHERRY LIGHTS</td>\n",
              "      <td>12</td>\n",
              "      <td>2009-12-01 07:45:00</td>\n",
              "      <td>6.75</td>\n",
              "      <td>13085.0</td>\n",
              "      <td>United Kingdom</td>\n",
              "      <td>2009</td>\n",
              "      <td>81.0</td>\n",
              "    </tr>\n",
              "    <tr>\n",
              "      <th>2</th>\n",
              "      <td>489434</td>\n",
              "      <td>79323W</td>\n",
              "      <td>WHITE CHERRY LIGHTS</td>\n",
              "      <td>12</td>\n",
              "      <td>2009-12-01 07:45:00</td>\n",
              "      <td>6.75</td>\n",
              "      <td>13085.0</td>\n",
              "      <td>United Kingdom</td>\n",
              "      <td>2009</td>\n",
              "      <td>81.0</td>\n",
              "    </tr>\n",
              "    <tr>\n",
              "      <th>3</th>\n",
              "      <td>489434</td>\n",
              "      <td>22041</td>\n",
              "      <td>RECORD FRAME 7\" SINGLE SIZE</td>\n",
              "      <td>48</td>\n",
              "      <td>2009-12-01 07:45:00</td>\n",
              "      <td>2.10</td>\n",
              "      <td>13085.0</td>\n",
              "      <td>United Kingdom</td>\n",
              "      <td>2009</td>\n",
              "      <td>100.8</td>\n",
              "    </tr>\n",
              "    <tr>\n",
              "      <th>4</th>\n",
              "      <td>489434</td>\n",
              "      <td>21232</td>\n",
              "      <td>STRAWBERRY CERAMIC TRINKET BOX</td>\n",
              "      <td>24</td>\n",
              "      <td>2009-12-01 07:45:00</td>\n",
              "      <td>1.25</td>\n",
              "      <td>13085.0</td>\n",
              "      <td>United Kingdom</td>\n",
              "      <td>2009</td>\n",
              "      <td>30.0</td>\n",
              "    </tr>\n",
              "  </tbody>\n",
              "</table>\n",
              "</div>\n",
              "      <button class=\"colab-df-convert\" onclick=\"convertToInteractive('df-c8c82b11-9855-4725-b66d-71cc1cc32c6f')\"\n",
              "              title=\"Convert this dataframe to an interactive table.\"\n",
              "              style=\"display:none;\">\n",
              "        \n",
              "  <svg xmlns=\"http://www.w3.org/2000/svg\" height=\"24px\"viewBox=\"0 0 24 24\"\n",
              "       width=\"24px\">\n",
              "    <path d=\"M0 0h24v24H0V0z\" fill=\"none\"/>\n",
              "    <path d=\"M18.56 5.44l.94 2.06.94-2.06 2.06-.94-2.06-.94-.94-2.06-.94 2.06-2.06.94zm-11 1L8.5 8.5l.94-2.06 2.06-.94-2.06-.94L8.5 2.5l-.94 2.06-2.06.94zm10 10l.94 2.06.94-2.06 2.06-.94-2.06-.94-.94-2.06-.94 2.06-2.06.94z\"/><path d=\"M17.41 7.96l-1.37-1.37c-.4-.4-.92-.59-1.43-.59-.52 0-1.04.2-1.43.59L10.3 9.45l-7.72 7.72c-.78.78-.78 2.05 0 2.83L4 21.41c.39.39.9.59 1.41.59.51 0 1.02-.2 1.41-.59l7.78-7.78 2.81-2.81c.8-.78.8-2.07 0-2.86zM5.41 20L4 18.59l7.72-7.72 1.47 1.35L5.41 20z\"/>\n",
              "  </svg>\n",
              "      </button>\n",
              "      \n",
              "  <style>\n",
              "    .colab-df-container {\n",
              "      display:flex;\n",
              "      flex-wrap:wrap;\n",
              "      gap: 12px;\n",
              "    }\n",
              "\n",
              "    .colab-df-convert {\n",
              "      background-color: #E8F0FE;\n",
              "      border: none;\n",
              "      border-radius: 50%;\n",
              "      cursor: pointer;\n",
              "      display: none;\n",
              "      fill: #1967D2;\n",
              "      height: 32px;\n",
              "      padding: 0 0 0 0;\n",
              "      width: 32px;\n",
              "    }\n",
              "\n",
              "    .colab-df-convert:hover {\n",
              "      background-color: #E2EBFA;\n",
              "      box-shadow: 0px 1px 2px rgba(60, 64, 67, 0.3), 0px 1px 3px 1px rgba(60, 64, 67, 0.15);\n",
              "      fill: #174EA6;\n",
              "    }\n",
              "\n",
              "    [theme=dark] .colab-df-convert {\n",
              "      background-color: #3B4455;\n",
              "      fill: #D2E3FC;\n",
              "    }\n",
              "\n",
              "    [theme=dark] .colab-df-convert:hover {\n",
              "      background-color: #434B5C;\n",
              "      box-shadow: 0px 1px 3px 1px rgba(0, 0, 0, 0.15);\n",
              "      filter: drop-shadow(0px 1px 2px rgba(0, 0, 0, 0.3));\n",
              "      fill: #FFFFFF;\n",
              "    }\n",
              "  </style>\n",
              "\n",
              "      <script>\n",
              "        const buttonEl =\n",
              "          document.querySelector('#df-c8c82b11-9855-4725-b66d-71cc1cc32c6f button.colab-df-convert');\n",
              "        buttonEl.style.display =\n",
              "          google.colab.kernel.accessAllowed ? 'block' : 'none';\n",
              "\n",
              "        async function convertToInteractive(key) {\n",
              "          const element = document.querySelector('#df-c8c82b11-9855-4725-b66d-71cc1cc32c6f');\n",
              "          const dataTable =\n",
              "            await google.colab.kernel.invokeFunction('convertToInteractive',\n",
              "                                                     [key], {});\n",
              "          if (!dataTable) return;\n",
              "\n",
              "          const docLinkHtml = 'Like what you see? Visit the ' +\n",
              "            '<a target=\"_blank\" href=https://colab.research.google.com/notebooks/data_table.ipynb>data table notebook</a>'\n",
              "            + ' to learn more about interactive tables.';\n",
              "          element.innerHTML = '';\n",
              "          dataTable['output_type'] = 'display_data';\n",
              "          await google.colab.output.renderOutput(dataTable, element);\n",
              "          const docLink = document.createElement('div');\n",
              "          docLink.innerHTML = docLinkHtml;\n",
              "          element.appendChild(docLink);\n",
              "        }\n",
              "      </script>\n",
              "    </div>\n",
              "  </div>\n",
              "  "
            ]
          },
          "metadata": {},
          "execution_count": 62
        }
      ]
    },
    {
      "cell_type": "markdown",
      "id": "158f85e3",
      "metadata": {
        "id": "158f85e3"
      },
      "source": [
        "### Cancellation Rate"
      ]
    },
    {
      "cell_type": "code",
      "execution_count": null,
      "id": "ca8edaa1",
      "metadata": {
        "id": "ca8edaa1",
        "colab": {
          "base_uri": "https://localhost:8080/"
        },
        "outputId": "08285922-27fc-4ee4-9c5e-6aa817440c65"
      },
      "outputs": [
        {
          "output_type": "stream",
          "name": "stdout",
          "text": [
            "Jumlah persentase cancellation rate : \n",
            "  Year\n",
            "2009    106.282723\n",
            "2010    234.325537\n",
            "2011    202.843602\n",
            "dtype: float64\n"
          ]
        }
      ],
      "source": [
        "total_customers_per_year = sales_copy.groupby('Year')['Customer ID'].nunique()\n",
        "cancellation_rate_per_year = (transaction_cancelled / total_customers_per_year) * 100\n",
        "print('Jumlah persentase cancellation rate : \\n ', cancellation_rate_per_year)"
      ]
    },
    {
      "cell_type": "code",
      "source": [
        "plt.figure(figsize=(7, 5))\n",
        "cancellation_rate_per_year.plot(kind='bar', color='green', width=0.3)\n",
        "plt.xlabel('Year')\n",
        "plt.ylabel('Cancellation Rate (%)')\n",
        "plt.title('Cancellation Rate per Year')\n",
        "plt.xticks(rotation=0)\n",
        "plt.show()"
      ],
      "metadata": {
        "colab": {
          "base_uri": "https://localhost:8080/",
          "height": 487
        },
        "id": "NrsjK_2mkyQ2",
        "outputId": "32b3a3a0-20e1-4cdd-afe7-594ba6c31537"
      },
      "id": "NrsjK_2mkyQ2",
      "execution_count": null,
      "outputs": [
        {
          "output_type": "display_data",
          "data": {
            "text/plain": [
              "<Figure size 700x500 with 1 Axes>"
            ],
            "image/png": "[encoded data removed]"
          },
          "metadata": {}
        }
      ]
    },
    {
      "cell_type": "markdown",
      "id": "8866bcd4",
      "metadata": {
        "id": "8866bcd4"
      },
      "source": [
        "### Interpretation\n",
        "---\n",
        "Berdasarkan perbandingan jumlah transaksi yang berhasil dan jumlah transaksi yang dibatalkan untuk setiap tahun dalam perusahaan ritel online, dapat diketahui bahwa pada tahun 2010 transaksi penjualan paling banyak terjadi. Kemudian diikuti dengan tahun 2011. Dan transaksi penjualan yang paling sedikit terjadi adalah pada tahun 2009.\n",
        "\n",
        "Hal ini menunjukkan bahwa terjadi banyak peningkatan pada tahun 2009 ke 2010. Dan terjadi sedikit penurunan transaksi  dari tahun 2010 ke 2011.\n",
        "\n",
        "Pembatalan transaksi paling sedikit terjadi pada tahun 2009, sedangkan transaksi yang berhasil terjadi paling banyak terjadi pada tahun 2010 dengan peningkatan yang sangat pesat daripada tahun sebelumnya. Sedangkan pada tahun berikutnya yaitu 2011 terjadi sedikit penurunan baik transaksi yang dibatalkan atau transaksi yang berhasil terjadi.\n",
        "\n",
        "\n",
        "\n",
        "Dalam perhitungan rate pembatalan setiap tahunnya dapat diketahui bahwa tahun dengan rate tertinggi terjadi pembatalan transaksi adalah pada tahun 2010, diikuti dengan 2011 dan 2009.\n",
        "\n",
        "Hal ini menunjukkan hal yang selaras dengan perbandingan jumlah transaksi yang berhasil terjadi. Yang di mana perbandingan jumlah transaksi yang berhasil dengan rate pembatalan transaksi memiliki transaksi yang paling tinggi pada tahun 2010. Kemudian diikuti pada tahun 2011, serta 2009"
      ]
    },
    {
      "cell_type": "markdown",
      "id": "09c84168",
      "metadata": {
        "id": "09c84168"
      },
      "source": []
    }
  ],
  "metadata": {
    "kernelspec": {
      "display_name": "Python 3 (ipykernel)",
      "language": "python",
      "name": "python3"
    },
    "language_info": {
      "codemirror_mode": {
        "name": "ipython",
        "version": 3
      },
      "file_extension": ".py",
      "mimetype": "text/x-python",
      "name": "python",
      "nbconvert_exporter": "python",
      "pygments_lexer": "ipython3",
      "version": "3.9.6"
    },
    "colab": {
      "provenance": []
    }
  },
  "nbformat": 4,
  "nbformat_minor": 5
}